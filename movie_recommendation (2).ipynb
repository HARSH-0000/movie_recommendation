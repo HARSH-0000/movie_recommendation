{
  "nbformat": 4,
  "nbformat_minor": 0,
  "metadata": {
    "kernelspec": {
      "name": "python3",
      "display_name": "Python 3"
    },
    "language_info": {
      "name": "python"
    }
  },
  "cells": [
    {
        "cell_type": "code",
        "execution_count": null,
        "source": [
            "!pip install pandas scikit-learn nltk"
        ],
        "metadata": {},
        "outputs": []
    },
    {
      "cell_type": "code",
      "execution_count": null,
      "source": [
        "import pandas as pd\n",
        "import numpy as np\n",
        "import ast\n",
        "import urllib.request\n",
        "from sklearn.feature_extraction.text import CountVectorizer\n",
        "import nltk\n",
        "nltk.download('punkt')\n",
        "from nltk.stem.porter import PorterStemmer\n",
        "from sklearn.metrics.pairwise import cosine_similarity\n",
        "import pickle\n",
        "import gzip"
      ],
      "metadata": {},
      "outputs": []
    },
    {
      "cell_type": "code",
      "execution_count": null,
      "source": [
        "credits_url = 'https://raw.githubusercontent.com/spoluan/tmdb-5000-movie-recommendation-system/hybrid-approach/tmdb-5000/tmdb_5000_credits.csv'\n",
        "movies_url = 'https://raw.githubusercontent.com/spoluan/tmdb-5000-movie-recommendation-system/hybrid-approach/tmdb-5000/tmdb_5000_movies.csv'\n",
        "credits = pd.read_csv(credits_url)\n",
        "movies_df = pd.read_csv(movies_url)"
      ],
      "metadata": {},
      "outputs": []
    },
    {
        "cell_type": "code",
        "execution_count": null,
        "source": [
            "movies = movies_df.merge(credits, on='title')\n",
            "movies = movies[['movie_id', 'title', 'overview', 'genres', 'keywords', 'cast', 'crew']]\n",
            "movies.dropna(inplace=True)"
        ],
        "metadata": {},
        "outputs": []
    },
    {
      "cell_type": "code",
      "execution_count": null,
      "source": [
        "def convert(obj):\n",
        "    L = []\n",
        "    try:\n",
        "        for i in ast.literal_eval(obj):\n",
        "            L.append(i['name'])\n",
        "    except (ValueError, SyntaxError):\n",
        "        pass\n",
        "    return L\n",
        "\n",
        "def convert3(obj):\n",
        "    L = []\n",
        "    counter = 0\n",
        "    try:\n",
        "        for i in ast.literal_eval(obj):\n",
        "            if counter != 3:\n",
        "                L.append(i['name'])\n",
        "                counter += 1\n",
        "            else:\n",
        "                break\n",
        "    except (ValueError, SyntaxError):\n",
        "        pass\n",
        "    return L\n",
        "\n",
        "def fetch_director(obj):\n",
        "    L = []\n",
        "    try:\n",
        "        for i in ast.literal_eval(obj):\n",
        "            if i['job'] == 'Director':\n",
        "                L.append(i['name'])\n",
        "                break\n",
        "    except (ValueError, SyntaxError):\n",
        "        pass\n",
        "    return L"
      ],
      "metadata": {},
      "outputs": []
    },
    {
        "cell_type": "code",
        "execution_count": null,
        "source": [
            "movies['genres'] = movies['genres'].apply(convert)\n",
            "movies['keywords'] = movies['keywords'].apply(convert)\n",
            "movies['cast'] = movies['cast'].apply(convert3)\n",
            "movies['crew'] = movies['crew'].apply(fetch_director)"
        ],
        "metadata": {},
        "outputs": []
    },
    {
        "cell_type": "code",
        "execution_count": null,
        "source": [
            "movies['overview'] = movies['overview'].apply(lambda x: x.split())\n",
            "movies['genres'] = movies['genres'].apply(lambda x: [i.replace(' ', '') for i in x])\n",
            "movies['keywords'] = movies['keywords'].apply(lambda x: [i.replace(' ', '') for i in x])\n",
            "movies['cast'] = movies['cast'].apply(lambda x: [i.replace(' ', '') for i in x])\n",
            "movies['crew'] = movies['crew'].apply(lambda x: [i.replace(' ', '') for i in x])"
        ],
        "metadata": {},
        "outputs": []
    },
    {
        "cell_type": "code",
        "execution_count": null,
        "source": [
            "movies['tags'] = movies['overview'] + movies['genres'] + movies['keywords'] + movies['cast'] + movies['crew']\n",
            "new_df = movies[['movie_id', 'title', 'tags']].copy()\n",
            "new_df['tags'] = new_df['tags'].apply(lambda x: ' '.join(x))\n",
            "new_df['tags'] = new_df['tags'].apply(lambda x: x.lower())"
        ],
        "metadata": {},
        "outputs": []
    },
    {
        "cell_type": "code",
        "execution_count": null,
        "source": [
            "ps = PorterStemmer()\n",
            "def stem(text):\n",
            "    y = []\n",
            "    for i in text.split():\n",
            "        y.append(ps.stem(i))\n",
            "    return ' '.join(y)\n",
            "new_df['tags'] = new_df['tags'].apply(stem)"
        ],
        "metadata": {},
        "outputs": []
    },
    {
        "cell_type": "code",
        "execution_count": null,
        "source": [
            "cv = CountVectorizer(max_features=5000, stop_words='english')\n",
            "vectors = cv.fit_transform(new_df['tags']).toarray()"
        ],
        "metadata": {},
        "outputs": []
    },
    {
        "cell_type": "code",
        "execution_count": null,
        "source": [
            "similarity = cosine_similarity(vectors)"
        ],
        "metadata": {},
        "outputs": []
    },
    {
        "cell_type": "code",
        "execution_count": null,
        "source": [
            "with gzip.open('movie_list.pkl', 'wb') as f:\n",
            "    pickle.dump(new_df.to_dict(), f)\n",
            "with gzip.open('similarity.pkl', 'wb') as f:\n",
            "    pickle.dump(similarity, f)"
        ],
        "metadata": {},
        "outputs": []
    }
  ]
}